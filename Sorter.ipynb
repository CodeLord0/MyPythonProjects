{
 "cells": [
  {
   "cell_type": "code",
   "execution_count": null,
   "metadata": {},
   "outputs": [],
   "source": [
    "# sort an array of values\n",
    "\n",
    "def sorter(lists):\n",
    "    while lists != sorted(lists):# while the list isnt sorted\n",
    "\n",
    "        for i in range(len(lists)-1):#iterate  through the list whilst and avoid index error\n",
    "            \n",
    "            leftnum = lists[i] # looks at the left number of two values\n",
    "            rightnum = lists[i+1] # looks at the right value \n",
    "            left_copy = leftnum # creates a 'virtual' copy of the left value\n",
    "            right_copy =rightnum # creates a 'virual' copy of the right value\n",
    "\n",
    "            if leftnum > rightnum: # compares if the left value is smaller than the right value\n",
    "                lists[i]= right_copy # makes the left element equal to right copy(when right switches to lest)\n",
    "                lists[i+1] = left_copy # makes the right element equal to left copy(when left switches to right)\n",
    "                #print(lists)\n",
    "\n",
    "            elif i == len(lists)-1: # ckecks if the iteration has reaches the end of the list\n",
    "                sorter() # calls the function again \n",
    "\n",
    "sorter([9,3,4,5,6,8,1,19,37,26,18,27,21,61,45,59,34,20,91,28])\n",
    "\n",
    "\n"
   ]
  }
 ],
 "metadata": {
  "language_info": {
   "name": "python"
  }
 },
 "nbformat": 4,
 "nbformat_minor": 2
}
