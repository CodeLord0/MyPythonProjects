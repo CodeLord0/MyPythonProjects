{
 "cells": [
  {
   "cell_type": "code",
   "execution_count": 47,
   "metadata": {},
   "outputs": [
    {
     "name": "stdout",
     "output_type": "stream",
     "text": [
      "80\n",
      "200\n",
      "2000\n",
      "20000\n",
      "200000\n",
      "8000000\n",
      "20000000\n",
      "300000000\n",
      "9000000000\n",
      "20000000000\n"
     ]
    }
   ],
   "source": [
    "def palnum(num):\n",
    "    power=1\n",
    "    value=num % 10 ** power # output 3\n",
    "    store=value\n",
    "   # print(value) # output 3\n",
    "\n",
    "    while value != num:\n",
    "        power+=1 \n",
    "        store=value\n",
    "        value=num % 10 ** power #output 93\n",
    "        store=(value-store) # output 90\n",
    "        print(store)\n",
    "        #calculate#execute\n",
    "        \n",
    "        \n",
    "       \n",
    "        \n",
    "palnum(29328222282)\n",
    "\n"
   ]
  }
 ],
 "metadata": {
  "kernelspec": {
   "display_name": "Python 3",
   "language": "python",
   "name": "python3"
  },
  "language_info": {
   "codemirror_mode": {
    "name": "ipython",
    "version": 3
   },
   "file_extension": ".py",
   "mimetype": "text/x-python",
   "name": "python",
   "nbconvert_exporter": "python",
   "pygments_lexer": "ipython3",
   "version": "3.12.4"
  }
 },
 "nbformat": 4,
 "nbformat_minor": 2
}
