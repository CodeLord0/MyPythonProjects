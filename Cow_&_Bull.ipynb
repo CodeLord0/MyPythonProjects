{
  "cells": [
    {
      "cell_type": "markdown",
      "metadata": {
        "id": "88-7OGCUUyp1"
      },
      "source": [
        "# cows and bulls #\n",
        "**rules / how to play**\n",
        "<br />guess a four digit number to get the secret number<br />\n",
        "<br />your number must not have two of the same numbers in it<br />\n",
        "\n",
        "**terms**\n",
        "<br />bull:this is when a digit in your guess is vertically equal to the secret number e.g 1234 and 4536. 3 in 1234\n",
        "and 3 in 4536 are vertically equal\n",
        "<br />\n",
        "<br />cows:this is when any digit in the guess is in the secret number but not vertically equal e.g 1234 and 9810. 1 is in the secret number(1234) and guess but not vertically equal\n",
        "<br />if bulls is 0 and cow is 0, this means that the numbers in your guess is not in the secret number<br />\n",
        "<br />if 4 cows, this means you have all the digits in the secret number but they are not well arranged<br />\n",
        "<br />if 4 bull,that is the secret number and you win<br />\n",
        "\n",
        "\n"
      ]
    },
    {
      "cell_type": "code",
      "execution_count": null,
      "metadata": {
        "id": "1EcNjFd4Uyqn"
      },
      "outputs": [],
      "source": [
        "import random\n",
        "secret_num = set({})\n",
        "\n",
        "def num_maker():\n",
        "    while len(secret_num) != 4:\n",
        "        secret_num.add(random.randrange(0,10))\n",
        "        num_maker()\n",
        "\n",
        "num_maker()\n",
        "\n",
        "secret_num =list(secret_num)\n",
        "\n",
        "def repeater():\n",
        "    global index\n",
        "    global bulls\n",
        "    global cows\n",
        "    global result\n",
        "    global error\n",
        "    global repeat_check\n",
        "    global y\n",
        "    guess=(input('guess my secret number: '))\n",
        "    index = 0\n",
        "    bulls = 0\n",
        "    cows = 0\n",
        "    error = False\n",
        "\n",
        "    try:\n",
        "        while index != 4:\n",
        "            if secret_num[index] == int((guess[index])):\n",
        "                index+=1\n",
        "                bulls+=1\n",
        "                cows += -1\n",
        "            else:\n",
        "                index+=1\n",
        "\n",
        "        for i in secret_num:\n",
        "            for x in guess:\n",
        "                if str(i) in str(x):\n",
        "                    cows += 1\n",
        "\n",
        "        index = 0\n",
        "        while index != 4:\n",
        "            for y in guess:\n",
        "                repeat_check=guess.count(guess[index]) == 1\n",
        "                index+=1\n",
        "                if repeat_check == False:\n",
        "                    error = True\n",
        "\n",
        "    except IndexError:\n",
        "        error = True\n",
        "        print('Invalid')\n",
        "\n",
        "    if error == False:\n",
        "        result=print(f'{bulls} Bulls {cows} Cows: {guess} ')\n",
        "    else:\n",
        "        result = 'Invalid\\nguess is less or greater than four digits.OR your guess has repeating numbers'\n",
        "\n",
        "\n",
        "    result\n",
        "\n",
        "\n",
        "    if bulls == 4:\n",
        "        print('you win')\n",
        "\n",
        "    while bulls != 4:\n",
        "        repeater()\n",
        "\n",
        "repeater()"
      ]
    }
  ],
  "metadata": {
    "interpreter": {
      "hash": "dbd248f78e050bbee38ac406b5be99adaa91d7bb98662441d6bf55657918dfcc"
    },
    "kernelspec": {
      "display_name": "Python 3.10.0 64-bit",
      "language": "python",
      "name": "python3"
    },
    "language_info": {
      "codemirror_mode": {
        "name": "ipython",
        "version": 3
      },
      "file_extension": ".py",
      "mimetype": "text/x-python",
      "name": "python",
      "nbconvert_exporter": "python",
      "pygments_lexer": "ipython3",
      "version": "3.10.0"
    },
    "orig_nbformat": 4,
    "colab": {
      "provenance": []
    }
  },
  "nbformat": 4,
  "nbformat_minor": 0
}