{
 "cells": [
  {
   "cell_type": "code",
   "execution_count": null,
   "metadata": {},
   "outputs": [],
   "source": [
    "# finding the key from a its value in a dictinoary\n",
    "phone={'a':123,'b':321,'c':421,'e':231}#the key_val pair\n",
    "def key_finder():\n",
    "    num=231\n",
    "    for key,val in phone.items():# iterates through key and value. .items reurms a list\n",
    "        if val == num:# if val is found\n",
    "            return key# returns its key\n",
    "key_finder()"
   ]
  }
 ],
 "metadata": {
  "language_info": {
   "name": "python"
  }
 },
 "nbformat": 4,
 "nbformat_minor": 2
}
